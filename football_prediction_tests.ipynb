{
 "cells": [
  {
   "cell_type": "code",
   "execution_count": 18,
   "metadata": {},
   "outputs": [
    {
     "name": "stdout",
     "output_type": "stream",
     "text": [
      "<bound method DataFrame.reset_index of                Home_Team            Away_Team Result  \\\n",
      "0    Stuttgarter Kickers  Rot-Weiß Oberhausen    1-0   \n",
      "1            Hannover 96             Nürnberg    1-1   \n",
      "2     B. Mönchengladbach          Saarbrücken    0-0   \n",
      "3        Rot Weiss Ahlen         FC St. Pauli    3-6   \n",
      "4         Greuther Fürth           Chemnitzer    4-1   \n",
      "..                   ...                  ...    ...   \n",
      "301       Dynamo Dresden      Jahn Regensburg    3-1   \n",
      "302         MSV Duisburg            Paderborn    3-2   \n",
      "303           VfL Bochum         Union Berlin    1-2   \n",
      "304        Ingolstadt 04                 Köln    0-3   \n",
      "305           Sandhausen       Erzgebirge Aue    0-1   \n",
      "\n",
      "                                                  Link  Season  Round  League  \n",
      "0    https://www.besoccer.com/match/stuttgarter-kic...    2001      1  2_liga  \n",
      "1    https://www.besoccer.com/match/hannover-96/fc-...    2001      1  2_liga  \n",
      "2    https://www.besoccer.com/match/borussia-monche...    2001      1  2_liga  \n",
      "3    https://www.besoccer.com/match/rot-weiss-ahlen...    2001      1  2_liga  \n",
      "4    https://www.besoccer.com/match/greuther-furth/...    2001      1  2_liga  \n",
      "..                                                 ...     ...    ...     ...  \n",
      "301  https://www.besoccer.com/match/sg-dynamo-dresd...    2013     34  2_liga  \n",
      "302  https://www.besoccer.com/match/msv-duisburg/pa...    2013     34  2_liga  \n",
      "303  https://www.besoccer.com/match/bochum/1-fc-uni...    2013     34  2_liga  \n",
      "304  https://www.besoccer.com/match/fc-ingolstadt-0...    2013     34  2_liga  \n",
      "305  https://www.besoccer.com/match/sv-sandhausen/f...    2013     34  2_liga  \n",
      "\n",
      "[10027 rows x 7 columns]>\n"
     ]
    },
    {
     "ename": "AttributeError",
     "evalue": "'function' object has no attribute 'to_csv'",
     "output_type": "error",
     "traceback": [
      "\u001b[0;31m---------------------------------------------------------------------------\u001b[0m",
      "\u001b[0;31mAttributeError\u001b[0m                            Traceback (most recent call last)",
      "\u001b[1;32m/home/kaylanm/Desktop/Football_Project/Football-Match-Predictions-Project/football_prediction_tests.ipynb Cell 1'\u001b[0m in \u001b[0;36m<cell line: 13>\u001b[0;34m()\u001b[0m\n\u001b[1;32m      <a href='vscode-notebook-cell:/home/kaylanm/Desktop/Football_Project/Football-Match-Predictions-Project/football_prediction_tests.ipynb#ch0000002?line=8'>9</a>\u001b[0m combined_csv \u001b[39m=\u001b[39m pd\u001b[39m.\u001b[39mconcat([pd\u001b[39m.\u001b[39mread_csv(file) \u001b[39mfor\u001b[39;00m file \u001b[39min\u001b[39;00m files ])\u001b[39m.\u001b[39mreset_index\n\u001b[1;32m     <a href='vscode-notebook-cell:/home/kaylanm/Desktop/Football_Project/Football-Match-Predictions-Project/football_prediction_tests.ipynb#ch0000002?line=10'>11</a>\u001b[0m \u001b[39mprint\u001b[39m(combined_csv)\n\u001b[0;32m---> <a href='vscode-notebook-cell:/home/kaylanm/Desktop/Football_Project/Football-Match-Predictions-Project/football_prediction_tests.ipynb#ch0000002?line=12'>13</a>\u001b[0m combined_csv\u001b[39m.\u001b[39;49mto_csv(\u001b[39m'\u001b[39m\u001b[39mBundesliga_2.csv\u001b[39m\u001b[39m'\u001b[39m)\n\u001b[1;32m     <a href='vscode-notebook-cell:/home/kaylanm/Desktop/Football_Project/Football-Match-Predictions-Project/football_prediction_tests.ipynb#ch0000002?line=14'>15</a>\u001b[0m df \u001b[39m=\u001b[39m combined_csv[(combined_csv[\u001b[39m'\u001b[39m\u001b[39mSeason\u001b[39m\u001b[39m'\u001b[39m] \u001b[39m==\u001b[39m \u001b[39m1990\u001b[39m)]\n",
      "\u001b[0;31mAttributeError\u001b[0m: 'function' object has no attribute 'to_csv'"
     ]
    }
   ],
   "source": [
    "import os\n",
    "import glob\n",
    "import pandas as pd\n",
    "\n",
    "os.chdir(r'/home/kaylanm/Desktop/Football_Project/Football/Results/2_liga')\n",
    "\n",
    "files = glob.glob('*.csv')\n",
    "\n",
    "combined_csv = pd.concat([pd.read_csv(file) for file in files ]).reset_index\n",
    "\n",
    "print(combined_csv)\n",
    "\n",
    "combined_csv.to_csv('Bundesliga_2.csv')\n",
    "\n",
    "df = combined_csv[(combined_csv['Season'] == 1990)]\n",
    "# number_of_teams = df.drop_duplicates(keep='first')\n",
    "# team_number = len(number_of_teams.index)\n",
    "# print(df)\n",
    "# print(team_number)\n",
    "\n",
    "\n"
   ]
  }
 ],
 "metadata": {
  "kernelspec": {
   "display_name": "Python 3.8.10 64-bit",
   "language": "python",
   "name": "python3"
  },
  "language_info": {
   "codemirror_mode": {
    "name": "ipython",
    "version": 3
   },
   "file_extension": ".py",
   "mimetype": "text/x-python",
   "name": "python",
   "nbconvert_exporter": "python",
   "pygments_lexer": "ipython3",
   "version": "3.8.10"
  },
  "orig_nbformat": 4,
  "vscode": {
   "interpreter": {
    "hash": "916dbcbb3f70747c44a77c7bcd40155683ae19c65e1c03b4aa3499c5328201f1"
   }
  }
 },
 "nbformat": 4,
 "nbformat_minor": 2
}
