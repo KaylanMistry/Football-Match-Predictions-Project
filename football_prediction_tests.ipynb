{
 "cells": [
  {
   "cell_type": "code",
   "execution_count": 5,
   "metadata": {},
   "outputs": [
    {
     "name": "stdout",
     "output_type": "stream",
     "text": [
      "20\n"
     ]
    }
   ],
   "source": [
    "import os\n",
    "import glob\n",
    "import pandas as pd\n",
    "\n",
    "\n",
    "class Footabll_prediction:\n",
    "    def __init__(self, directory=str):\n",
    "        self.directory = directory\n",
    "\n",
    "    def choose_league(self, league):\n",
    "        '''\n",
    "        This function specifies the league you want to collect data from and converts this to a pandas dataframe.\n",
    "\n",
    "        The directory must be directed to the 'Results' folder, containing the results for all the leagues.\n",
    "        '''\n",
    "        os.chdir(f'{self.directory}{league}')\n",
    "        files = glob.glob('*.csv')\n",
    "        self.combined_csv = pd.concat([pd.read_csv(file) for file in files ])\n",
    "        return self.combined_csv\n",
    "\n",
    "\n",
    "    def find_num_of_teams(self, year):\n",
    "        '''\n",
    "        This function finds the number of teams in a certain league for a particular season.  \n",
    "\n",
    "        To use this, requires you to use 'choose league' function before. \n",
    "\n",
    "        To use this fucntion, insert a specific year you require.\n",
    "\n",
    "        '''\n",
    "\n",
    "        df = self.combined_csv[(self.combined_csv['Season'] == year)]\n",
    "        num_of_teams = df.drop_duplicates('Home_Team', keep='first')\n",
    "        print(len(num_of_teams.index))\n",
    "    \n",
    "\n",
    "\n",
    "\n",
    "if __name__ == '__main__':\n",
    "    bot = Footabll_prediction(r'/home/kaylanm/Desktop/Football_Project/Football/Results/')\n",
    "    bot.choose_league('primera_division')\n",
    "    bot.find_num_of_teams(1990)\n"
   ]
  }
 ],
 "metadata": {
  "kernelspec": {
   "display_name": "Python 3.8.10 64-bit",
   "language": "python",
   "name": "python3"
  },
  "language_info": {
   "codemirror_mode": {
    "name": "ipython",
    "version": 3
   },
   "file_extension": ".py",
   "mimetype": "text/x-python",
   "name": "python",
   "nbconvert_exporter": "python",
   "pygments_lexer": "ipython3",
   "version": "3.8.10"
  },
  "orig_nbformat": 4,
  "vscode": {
   "interpreter": {
    "hash": "916dbcbb3f70747c44a77c7bcd40155683ae19c65e1c03b4aa3499c5328201f1"
   }
  }
 },
 "nbformat": 4,
 "nbformat_minor": 2
}
