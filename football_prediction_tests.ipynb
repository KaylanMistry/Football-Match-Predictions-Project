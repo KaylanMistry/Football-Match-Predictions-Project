{
 "cells": [
  {
   "cell_type": "code",
   "execution_count": 19,
   "metadata": {},
   "outputs": [
    {
     "name": "stdout",
     "output_type": "stream",
     "text": [
      "24\n"
     ]
    }
   ],
   "source": [
    "import os\n",
    "import glob\n",
    "import pandas as pd\n",
    "\n",
    "# os.chdir(r'/home/kaylanm/Desktop/Football_Project/Football/Results/championship')\n",
    "\n",
    "# files = glob.glob('*.csv')\n",
    "\n",
    "# combined_csv = pd.concat([pd.read_csv(file) for file in files ])\n",
    "\n",
    "# print(combined_csv)\n",
    "\n",
    "\n",
    "\n",
    "# df = combined_csv[(combined_csv['Season'] == 1990)]\n",
    "# num_of_teams = df.drop_duplicates('Home_Team', keep='first')\n",
    "# print(len(num_of_teams.index))\n",
    "\n",
    "class Footabll_prediction:\n",
    "    def __init__(self, directory=str):\n",
    "        self.directory = directory\n",
    "\n",
    "\n",
    "    def find_num_of_teams(self, year, league):\n",
    "        os.chdir(f'{self.directory}{league}')\n",
    "        files = glob.glob('*.csv')\n",
    "        combined_csv = pd.concat([pd.read_csv(file) for file in files ])\n",
    "        df = combined_csv[(combined_csv['Season'] == year)]\n",
    "        num_of_teams = df.drop_duplicates('Home_Team', keep='first')\n",
    "        print(len(num_of_teams.index))\n",
    "\n",
    "\n",
    "\n",
    "if __name__ == '__main__':\n",
    "    bot = Footabll_prediction(r'/home/kaylanm/Desktop/Football_Project/Football/Results/')\n",
    "    bot.find_num_of_teams(1990, 'championship')\n"
   ]
  }
 ],
 "metadata": {
  "kernelspec": {
   "display_name": "Python 3.8.10 64-bit",
   "language": "python",
   "name": "python3"
  },
  "language_info": {
   "codemirror_mode": {
    "name": "ipython",
    "version": 3
   },
   "file_extension": ".py",
   "mimetype": "text/x-python",
   "name": "python",
   "nbconvert_exporter": "python",
   "pygments_lexer": "ipython3",
   "version": "3.8.10"
  },
  "orig_nbformat": 4,
  "vscode": {
   "interpreter": {
    "hash": "916dbcbb3f70747c44a77c7bcd40155683ae19c65e1c03b4aa3499c5328201f1"
   }
  }
 },
 "nbformat": 4,
 "nbformat_minor": 2
}
