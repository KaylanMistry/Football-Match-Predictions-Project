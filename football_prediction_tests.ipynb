{
 "cells": [
  {
   "cell_type": "code",
   "execution_count": 50,
   "metadata": {},
   "outputs": [],
   "source": [
    "import os\n",
    "import glob\n",
    "import pandas as pd\n",
    "import numpy as np\n",
    "\n",
    "\n",
    "class Footabll_prediction:\n",
    "    def __init__(self, directory=str):\n",
    "        self.directory = directory\n",
    "\n",
    "    def choose_league(self, league):\n",
    "        '''\n",
    "        This function specifies the league you want to collect data from and converts this to a pandas dataframe.\n",
    "\n",
    "        The directory must be directed to the 'Results' folder, containing the results for all the leagues.\n",
    "        '''\n",
    "        os.chdir(f'{self.directory}{league}')\n",
    "        files = glob.glob('*.csv')\n",
    "        self.combined_csv = pd.concat([pd.read_csv(file) for file in files ])\n",
    "        return self.combined_csv\n",
    "\n",
    "    def choose_year(self, year=str):\n",
    "        df_new = self.combined_csv[(self.combined_csv['Season'] == year)]\n",
    "        self.your_df = df_new.reindex(df_new.columns.to_list() + ['Home_Wins', 'Away_Wins', 'Draw'], axis=1)\n",
    "        return self.your_df\n",
    "\n",
    "    def find_who_wins(self):\n",
    "\n",
    "        self.your_df.loc[self.your_df['Result'] > 0, 'Home_Wins'] = 1\n",
    "        self.your_df.loc[self.your_df['Result'] < 0, 'Away_Wins'] = 1\n",
    "        self.your_df.loc[self.your_df['Result'] == 0, 'Draw'] = 1\n",
    "        print(self.your_df)\n",
    "\n",
    "    def find_num_of_teams(self, year=str):\n",
    "        '''\n",
    "        This function finds the number of teams in a certain league for a particular season.  \n",
    "\n",
    "        To use this, requires you to use 'choose league' function before. \n",
    "\n",
    "        To use this fucntion, insert a specific year you require in non-string format.\n",
    "\n",
    "        '''\n",
    "        df = self.combined_csv[(self.combined_csv['Season'] == year)]\n",
    "        num_of_teams = df.drop_duplicates('Home_Team', keep='first')\n",
    "        print(len(num_of_teams.index))\n",
    "    \n",
    "\n",
    "\n",
    "\n",
    "if __name__ == '__main__':\n",
    "    bot = Footabll_prediction(r'/home/kaylanm/Desktop/Football_Project/Football/Results/')\n",
    "    bot.choose_league('primera_division')\n",
    "    bot.choose_year(1990)\n"
   ]
  }
 ],
 "metadata": {
  "kernelspec": {
   "display_name": "Python 3.8.10 64-bit",
   "language": "python",
   "name": "python3"
  },
  "language_info": {
   "codemirror_mode": {
    "name": "ipython",
    "version": 3
   },
   "file_extension": ".py",
   "mimetype": "text/x-python",
   "name": "python",
   "nbconvert_exporter": "python",
   "pygments_lexer": "ipython3",
   "version": "3.8.10"
  },
  "orig_nbformat": 4,
  "vscode": {
   "interpreter": {
    "hash": "916dbcbb3f70747c44a77c7bcd40155683ae19c65e1c03b4aa3499c5328201f1"
   }
  }
 },
 "nbformat": 4,
 "nbformat_minor": 2
}
